{
  "nbformat": 4,
  "nbformat_minor": 0,
  "metadata": {
    "colab": {
      "name": "Rohith Balakrishnan.ipynb",
      "provenance": []
    },
    "kernelspec": {
      "name": "python3",
      "display_name": "Python 3"
    },
    "language_info": {
      "name": "python"
    }
  },
  "cells": [
    {
      "cell_type": "code",
      "metadata": {
        "id": "sB_W-weJrytq"
      },
      "source": [
        "##IMPORTING DATASET\n",
        "  from keras.datasets import mnist\n",
        "\n",
        "  data - mnist.load_data()"
      ],
      "execution_count": null,
      "outputs": []
    },
    {
      "cell_type": "code",
      "metadata": {
        "id": "gupQpgzSs6lW"
      },
      "source": [
        "(x_train, y_train), (x_test, y_test) = data"
      ],
      "execution_count": null,
      "outputs": []
    },
    {
      "cell_type": "code",
      "metadata": {
        "id": "luZ-mSKYtLo-"
      },
      "source": [
        "#Reshape the Training Data\n",
        "\n",
        "x_train = x_train.reshape((x_train.shape[0], 28*28)).astype('float32')\n",
        "X_test = x_test.reshape((x_test.shape[0], 28*28)).astype('float32')"
      ],
      "execution_count": null,
      "outputs": []
    },
    {
      "cell_type": "code",
      "metadata": {
        "id": "7SyxbMFmvVt9"
      },
      "source": [
        "#Normalzingvalue from 0-255to 0-1\n",
        "\n",
        "x_train = x_train/255\n",
        "x_test = x_test/255"
      ],
      "execution_count": null,
      "outputs": []
    },
    {
      "cell_type": "code",
      "metadata": {
        "id": "NSf_RKWyvxI_"
      },
      "source": [
        "from keras.utlis import np_utils\n",
        "print(y_test.shape)\n",
        "y_train = np_utlis.to_categorical(y_train)\n",
        "y_test = np_utlis.to_categorical(y_test)\n",
        "num_classes = y_test.shape[1]\n",
        "print(y_test.shape)"
      ],
      "execution_count": null,
      "outputs": []
    },
    {
      "cell_type": "code",
      "metadata": {
        "id": "IJUpedCvxkOB"
      },
      "source": [
        "from keras.models import sequential\n",
        "from keras.layers import Dense"
      ],
      "execution_count": null,
      "outputs": []
    },
    {
      "cell_type": "code",
      "metadata": {
        "id": "M_Pae5yzxzG1"
      },
      "source": [
        "#Define Model\n",
        "model = sequential()\n",
        "\n",
        "#Add First Hidden Layer\n",
        "model.add(Dense(32, input_dim-28*28, activation-'relu'))\n",
        "\n",
        "#Add Second Hidden Layer\n",
        "model.add(Dense(64, Activation='relu'))\n",
        "\n",
        "#Add output layer having 10 neurons\n",
        "model.add(Dense(10, activation='softmax'))"
      ],
      "execution_count": null,
      "outputs": []
    },
    {
      "cell_type": "code",
      "metadata": {
        "id": "WJESzPX4y110"
      },
      "source": [
        "#compile Model\n",
        "\n",
        "model.compile(loss='categorial_crossentropy', optimizer='adam', metrics=['accuracy'])"
      ],
      "execution_count": null,
      "outputs": []
    },
    {
      "cell_type": "code",
      "metadata": {
        "id": "kEaE7GnZzQef"
      },
      "source": [
        "model.summary()"
      ],
      "execution_count": null,
      "outputs": []
    },
    {
      "cell_type": "code",
      "metadata": {
        "id": "zDa87DrLzUfu"
      },
      "source": [
        "#train model\n",
        "model.fit(x_train, y_train, epochs=10, batch_size=100)"
      ],
      "execution_count": null,
      "outputs": []
    },
    {
      "cell_type": "code",
      "metadata": {
        "id": "oLppxuaQzi-v"
      },
      "source": [
        "scores = model.evaluate(x_test,y_test)\n",
        "print(scores) #returns loss and accuracy"
      ],
      "execution_count": null,
      "outputs": []
    }
  ]
}